{
 "cells": [
  {
   "cell_type": "code",
   "execution_count": 10,
   "metadata": {},
   "outputs": [],
   "source": [
    "import scanpy as sc\n",
    "adata = sc.read_h5ad('../../../scratch/perturb_seq_data/ReplogleWeissman2022_K562_essential_processed_1000hvg_pert_in_gene.h5ad')\n",
    "adata.var.index = adata.var.index.values.astype('str')"
   ]
  },
  {
   "cell_type": "code",
   "execution_count": 11,
   "metadata": {},
   "outputs": [],
   "source": [
    "from scipy.sparse import csr_matrix\n",
    "# Convert the array to CSR format\n",
    "adata.X = csr_matrix(adata.X)"
   ]
  },
  {
   "cell_type": "code",
   "execution_count": 12,
   "metadata": {},
   "outputs": [],
   "source": [
    "adata.uns['log1p']['base'] = None\n",
    "adata.obs = adata.obs[['batch', 'gene', 'cell_type', 'condition']]"
   ]
  },
  {
   "cell_type": "code",
   "execution_count": 13,
   "metadata": {},
   "outputs": [
    {
     "data": {
      "text/plain": [
       "['NAF1', 'BUB1', 'UBL5', 'C9orf16', 'TIMM9', ..., 'RPL7A', 'NUP155', 'FDPS', 'RBM22', 'POLR3A']\n",
       "Length: 2058\n",
       "Categories (2058, object): ['AAAS', 'AAMP', 'AARS', 'AARS2', ..., 'ZRSR2', 'ZW10', 'ZWINT', 'non-targeting']"
      ]
     },
     "execution_count": 13,
     "metadata": {},
     "output_type": "execute_result"
    }
   ],
   "source": [
    "adata.obs['gene'].unique()"
   ]
  },
  {
   "cell_type": "code",
   "execution_count": 15,
   "metadata": {},
   "outputs": [],
   "source": [
    "import numpy as np\n",
    "adata = adata[adata.obs['gene'].isin(np.array(adata.var.gene_name.values.tolist() + ['non-targeting']))]"
   ]
  },
  {
   "cell_type": "code",
   "execution_count": 16,
   "metadata": {},
   "outputs": [
    {
     "name": "stderr",
     "output_type": "stream",
     "text": [
      "Creating pyg object for each cell in the data...\n",
      "100%|██████████| 1867/1867 [10:49<00:00,  2.87it/s]\n",
      "Saving new dataset pyg object at /home/huangk28/scratch/perturb_seq_data/gears_data/replogle_k562_essential_1000hvg+pert_in_gene/data_pyg/cell_graphs.pkl\n",
      "Done!\n"
     ]
    }
   ],
   "source": [
    "from gears import PertData\n",
    "\n",
    "pert_data = PertData('/home/huangk28/scratch/perturb_seq_data/gears_data/') # specific saved folder\n",
    "pert_data.new_data_process(dataset_name = 'replogle_k562_essential_1000hvg+pert_in_gene', adata = adata) # specific dataset name and adata object"
   ]
  },
  {
   "cell_type": "code",
   "execution_count": null,
   "metadata": {},
   "outputs": [],
   "source": []
  }
 ],
 "metadata": {
  "kernelspec": {
   "display_name": "scgpt_env",
   "language": "python",
   "name": "python3"
  },
  "language_info": {
   "codemirror_mode": {
    "name": "ipython",
    "version": 3
   },
   "file_extension": ".py",
   "mimetype": "text/x-python",
   "name": "python",
   "nbconvert_exporter": "python",
   "pygments_lexer": "ipython3",
   "version": "3.8.17"
  },
  "orig_nbformat": 4
 },
 "nbformat": 4,
 "nbformat_minor": 2
}
