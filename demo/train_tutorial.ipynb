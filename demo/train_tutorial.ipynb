{
 "cells": [
  {
   "cell_type": "code",
   "execution_count": 1,
   "metadata": {},
   "outputs": [],
   "source": [
    "import sys\n",
    "sys.path.append('../')\n",
    "from iterpert.iterpert import IterPert"
   ]
  },
  {
   "cell_type": "code",
   "execution_count": 2,
   "metadata": {},
   "outputs": [
    {
     "name": "stdout",
     "output_type": "stream",
     "text": [
      "device:  cuda:1\n"
     ]
    }
   ],
   "source": [
    "strategy = 'IterPert'\n",
    "interface = IterPert(weight_bias_track = False, \n",
    "                     exp_name = strategy,\n",
    "                     device = 'cuda:1', \n",
    "                     seed = 1)"
   ]
  },
  {
   "cell_type": "code",
   "execution_count": 3,
   "metadata": {},
   "outputs": [
    {
     "name": "stderr",
     "output_type": "stream",
     "text": [
      "Found local copy...\n",
      "Found local copy...\n",
      "These perturbations are not in the GO graph and their perturbation can thus not be predicted\n",
      "['C7orf26+ctrl' 'C19orf53+ctrl' 'KRTAP4-7+ctrl' 'OR4F4+ctrl'\n",
      " 'C16orf86+ctrl' 'CCDC144NL+ctrl' 'ALG1L+ctrl' 'GOLGA6L1+ctrl'\n",
      " 'C14orf178+ctrl' 'RPS10-NUDT3+ctrl' 'FAM229A+ctrl' 'SEM1+ctrl'\n",
      " 'GNB1L+ctrl' 'MTRNR2L1+ctrl' 'FAU+ctrl']\n",
      "Local copy of pyg dataset is detected. Loading...\n"
     ]
    },
    {
     "name": "stdout",
     "output_type": "stream",
     "text": [
      "batch info is available!\n"
     ]
    },
    {
     "name": "stderr",
     "output_type": "stream",
     "text": [
      "Done!\n",
      "Local copy of split is detected. Loading...\n",
      "Done!\n",
      "Creating dataloaders....\n",
      "Finished creating dataloaders....\n"
     ]
    },
    {
     "name": "stdout",
     "output_type": "stream",
     "text": [
      "Number of cores: 64\n",
      "Number of workers: 32\n"
     ]
    }
   ],
   "source": [
    "path = '/home/huangk28/scratch/perturb_seq_data/gears_data/'\n",
    "interface.initialize_data(path = path,\n",
    "                          dataset_name='replogle_k562_essential_1000hvg',\n",
    "                          batch_size = 256)"
   ]
  },
  {
   "cell_type": "code",
   "execution_count": 4,
   "metadata": {},
   "outputs": [],
   "source": [
    "## for the sake of demo, set epoch = 1, usually set it to 20\n",
    "interface.initialize_model(epochs = 1, hidden_size = 64)"
   ]
  },
  {
   "cell_type": "code",
   "execution_count": 5,
   "metadata": {},
   "outputs": [
    {
     "name": "stderr",
     "output_type": "stream",
     "text": [
      "Found local copy...\n"
     ]
    },
    {
     "name": "stdout",
     "output_type": "stream",
     "text": [
      "Kernel in  /home/huangk28/scratch/perturb_seq_data/gears_data/replogle_k562_essential_1000hvg_kernels/knowledge_kernels_1k/\n"
     ]
    }
   ],
   "source": [
    "interface.initialize_active_learning_strategy(strategy = strategy)"
   ]
  },
  {
   "cell_type": "code",
   "execution_count": 6,
   "metadata": {},
   "outputs": [
    {
     "name": "stderr",
     "output_type": "stream",
     "text": [
      "Creating dataloaders....\n",
      "Finished creating dataloaders....\n",
      "Creating dataloaders....\n",
      "Finished creating dataloaders....\n",
      "Found local copy...\n"
     ]
    },
    {
     "name": "stdout",
     "output_type": "stream",
     "text": [
      "number of labeled pool: 100\n",
      "number of unlabeled pool: 1751\n",
      "number of testing pool: 192\n",
      "\n",
      "----- Round 0/ 5  ----\n",
      "Number of labeled perts at this round: 100\n",
      "Number of cores: 64\n",
      "Number of workers: 32\n",
      "Number of cores: 64\n",
      "Number of workers: 32\n",
      "Use autofocus loss only...\n"
     ]
    },
    {
     "name": "stderr",
     "output_type": "stream",
     "text": [
      "Start Training...\n",
      "Epoch 1 Step 1 Train Loss: 0.7362\n"
     ]
    },
    {
     "name": "stdout",
     "output_type": "stream",
     "text": [
      "this epoch takes 32.07693576812744 s!\n"
     ]
    },
    {
     "name": "stderr",
     "output_type": "stream",
     "text": [
      "100%|██████████| 10/10 [00:08<00:00,  1.11it/s]\n",
      "Done!\n"
     ]
    },
    {
     "name": "stdout",
     "output_type": "stream",
     "text": [
      "per epoch evaluation takes 8.986977577209473 s!\n",
      "per epoch metric computing takes 0.04407668113708496 s!\n",
      "Start evaluating...\n",
      "Using modified evaluation scheme...\n"
     ]
    },
    {
     "name": "stderr",
     "output_type": "stream",
     "text": [
      "100%|██████████| 111/111 [00:16<00:00,  6.75it/s]\n"
     ]
    },
    {
     "name": "stdout",
     "output_type": "stream",
     "text": [
      "Finished evaluating with time 0.27665214935938515 min\n",
      "Starting initializing eval_analysis_fast analysis...\n"
     ]
    },
    {
     "name": "stderr",
     "output_type": "stream",
     "text": [
      "100%|██████████| 192/192 [00:00<00:00, 433.45it/s]\n",
      "Creating dataloaders....\n",
      "Finished creating dataloaders....\n"
     ]
    },
    {
     "name": "stdout",
     "output_type": "stream",
     "text": [
      "eval_analysis_fast finished with time 0.007454061508178711 min\n",
      "Round 0 pearson delta: 0.06514521347788375\n",
      "----- Round  1 / 5  ----\n",
      "Number of cores: 64\n",
      "Number of workers: 32\n"
     ]
    },
    {
     "name": "stderr",
     "output_type": "stream",
     "text": [
      "100%|██████████| 8/8 [00:09<00:00,  1.16s/it]\n"
     ]
    },
    {
     "name": "stdout",
     "output_type": "stream",
     "text": [
      "Feature size is: 1000\n",
      "Using prior kernels...\n",
      "length of pool list: 1750\n",
      "length of train list: 100\n",
      "normalizing prior kernel using max\n",
      "computing the base kernel...\n",
      "Added 100 train samples to selection\n"
     ]
    },
    {
     "name": "stderr",
     "output_type": "stream",
     "text": [
      "Creating dataloaders....\n",
      "Finished creating dataloaders....\n",
      "Creating dataloaders....\n",
      "Finished creating dataloaders....\n",
      "Found local copy...\n"
     ]
    },
    {
     "name": "stdout",
     "output_type": "stream",
     "text": [
      "Next idx: 1607 - Value: 0.28208692426915816\n",
      "Next idx: 1411 - Value: 0.2752037922379963\n",
      "Next idx: 586 - Value: 0.26889499199570993\n",
      "Next idx: 1106 - Value: 0.26707960508298895\n",
      "Next idx: 1374 - Value: 0.2588263985115135\n",
      "Next idx: 1614 - Value: 0.2543539905227701\n",
      "Next idx: 1481 - Value: 0.24437089219476554\n",
      "Next idx: 157 - Value: 0.24340578360646326\n",
      "Next idx: 1360 - Value: 0.2423098204377248\n",
      "Next idx: 867 - Value: 0.23695947685604152\n",
      "Next idx: 1116 - Value: 0.23318874211092677\n",
      "Next idx: 1538 - Value: 0.23300015562429077\n",
      "Next idx: 1698 - Value: 0.23297050640944833\n",
      "Next idx: 267 - Value: 0.23146465400538774\n",
      "Next idx: 516 - Value: 0.2302308779704303\n",
      "Next idx: 70 - Value: 0.23012947697622171\n",
      "Next idx: 1658 - Value: 0.22550973179560851\n",
      "Next idx: 1028 - Value: 0.22346406482033065\n",
      "Next idx: 1559 - Value: 0.22214490717673152\n",
      "Next idx: 1034 - Value: 0.22151691973149212\n",
      "Next idx: 397 - Value: 0.21775308557301598\n",
      "Next idx: 1342 - Value: 0.21626733572190693\n",
      "Next idx: 1401 - Value: 0.21467283236339507\n",
      "Next idx: 1070 - Value: 0.2141770363002088\n",
      "Next idx: 590 - Value: 0.21399598991041036\n",
      "Next idx: 136 - Value: 0.21236213980036162\n",
      "Next idx: 1444 - Value: 0.21177144807070347\n",
      "Next idx: 939 - Value: 0.21051560048918105\n",
      "Next idx: 1088 - Value: 0.21002021967415552\n",
      "Next idx: 434 - Value: 0.20985802223523609\n",
      "Next idx: 33 - Value: 0.20981609380257893\n",
      "Next idx: 1462 - Value: 0.20948811759532343\n",
      "Next idx: 1044 - Value: 0.20945248807606187\n",
      "Next idx: 1213 - Value: 0.20892339899175716\n",
      "Next idx: 1713 - Value: 0.2084481761896309\n",
      "Next idx: 1149 - Value: 0.20831825783806457\n",
      "Next idx: 1605 - Value: 0.2076007158672012\n",
      "Next idx: 120 - Value: 0.2067226985108489\n",
      "Next idx: 891 - Value: 0.20639140016283802\n",
      "Next idx: 390 - Value: 0.2048051969515876\n",
      "Next idx: 407 - Value: 0.2041315682583542\n",
      "Next idx: 1228 - Value: 0.2038016172480625\n",
      "Next idx: 985 - Value: 0.20337502731346224\n",
      "Next idx: 1727 - Value: 0.20328711070572947\n",
      "Next idx: 1277 - Value: 0.2021045050378535\n",
      "Next idx: 1110 - Value: 0.2001734153790256\n",
      "Next idx: 1002 - Value: 0.19990139164215465\n",
      "Next idx: 205 - Value: 0.1990459896952061\n",
      "Next idx: 16 - Value: 0.19869064997502983\n",
      "Next idx: 1650 - Value: 0.1985848130397419\n",
      "Next idx: 1029 - Value: 0.1984445793728402\n",
      "Next idx: 387 - Value: 0.198339589665411\n",
      "Next idx: 941 - Value: 0.19786495236982293\n",
      "Next idx: 1204 - Value: 0.19734363350323347\n",
      "Next idx: 375 - Value: 0.19726489467590907\n",
      "Next idx: 180 - Value: 0.19701794791734656\n",
      "Next idx: 371 - Value: 0.1970122183902322\n",
      "Next idx: 1390 - Value: 0.19681291263313722\n",
      "Next idx: 1410 - Value: 0.19667285033948823\n",
      "Next idx: 646 - Value: 0.19664706676252097\n",
      "Next idx: 1290 - Value: 0.19606009894142662\n",
      "Next idx: 119 - Value: 0.19536971959877314\n",
      "Next idx: 1275 - Value: 0.19507483326867847\n",
      "Next idx: 685 - Value: 0.19441626099642317\n",
      "Next idx: 1534 - Value: 0.1943300840332548\n",
      "Next idx: 363 - Value: 0.19422920004948735\n",
      "Next idx: 1659 - Value: 0.19361760471108985\n",
      "Next idx: 409 - Value: 0.19358639253977505\n",
      "Next idx: 1418 - Value: 0.19306160730965383\n",
      "Next idx: 615 - Value: 0.19302140318821975\n",
      "Next idx: 831 - Value: 0.19284021130461548\n",
      "Next idx: 135 - Value: 0.1925240151214983\n",
      "Next idx: 1743 - Value: 0.19238571856088732\n",
      "Next idx: 324 - Value: 0.1922720523274205\n",
      "Next idx: 1357 - Value: 0.19140349234891996\n",
      "Next idx: 678 - Value: 0.19113376050923409\n",
      "Next idx: 21 - Value: 0.19075748247443391\n",
      "Next idx: 1287 - Value: 0.19038819697595616\n",
      "Next idx: 661 - Value: 0.19037968016699847\n",
      "Next idx: 824 - Value: 0.1902821206518911\n",
      "Next idx: 162 - Value: 0.18967814892863655\n",
      "Next idx: 1118 - Value: 0.18952443072810565\n",
      "Next idx: 1435 - Value: 0.18939931912169994\n",
      "Next idx: 600 - Value: 0.18938083871201794\n",
      "Next idx: 868 - Value: 0.18918062596970486\n",
      "Next idx: 40 - Value: 0.18900276884284928\n",
      "Next idx: 1166 - Value: 0.18896219441618511\n",
      "Next idx: 1155 - Value: 0.18858347697974642\n",
      "Next idx: 1732 - Value: 0.1884655128816306\n",
      "Next idx: 291 - Value: 0.18843945256090555\n",
      "Next idx: 1438 - Value: 0.18795568856861972\n",
      "Next idx: 1321 - Value: 0.18749822275147515\n",
      "Next idx: 1392 - Value: 0.1873305303048015\n",
      "Next idx: 1202 - Value: 0.18726162431858995\n",
      "Next idx: 1042 - Value: 0.18719478038966986\n",
      "Next idx: 1085 - Value: 0.1870574874852683\n",
      "Next idx: 1 - Value: 0.1869916269943961\n",
      "Next idx: 164 - Value: 0.18688774763958682\n",
      "Next idx: 1573 - Value: 0.18670153179582266\n",
      "Next idx: 327 - Value: 0.18651345509359052\n",
      "Querying 100 new perturbations!\n",
      "Number of labeled perts at this round: 200\n",
      "Number of cores: 64\n",
      "Number of workers: 32\n",
      "Number of cores: 64\n",
      "Number of workers: 32\n",
      "Use autofocus loss only...\n"
     ]
    },
    {
     "name": "stderr",
     "output_type": "stream",
     "text": [
      "Start Training...\n",
      "Epoch 1 Step 1 Train Loss: 0.8501\n",
      "Epoch 1 Step 51 Train Loss: 0.7782\n",
      "Epoch 1 Step 101 Train Loss: 0.7899\n"
     ]
    },
    {
     "name": "stdout",
     "output_type": "stream",
     "text": [
      "this epoch takes 36.31809973716736 s!\n"
     ]
    },
    {
     "name": "stderr",
     "output_type": "stream",
     "text": [
      "100%|██████████| 11/11 [00:10<00:00,  1.08it/s]\n",
      "Done!\n"
     ]
    },
    {
     "name": "stdout",
     "output_type": "stream",
     "text": [
      "per epoch evaluation takes 10.21281909942627 s!\n",
      "per epoch metric computing takes 0.035350799560546875 s!\n",
      "Start evaluating...\n",
      "Using modified evaluation scheme...\n"
     ]
    },
    {
     "name": "stderr",
     "output_type": "stream",
     "text": [
      "100%|██████████| 111/111 [00:21<00:00,  5.25it/s]\n"
     ]
    },
    {
     "name": "stdout",
     "output_type": "stream",
     "text": [
      "Finished evaluating with time 0.35522234439849854 min\n",
      "Starting initializing eval_analysis_fast analysis...\n"
     ]
    },
    {
     "name": "stderr",
     "output_type": "stream",
     "text": [
      "100%|██████████| 192/192 [00:00<00:00, 419.48it/s]\n",
      "Creating dataloaders....\n",
      "Finished creating dataloaders....\n"
     ]
    },
    {
     "name": "stdout",
     "output_type": "stream",
     "text": [
      "eval_analysis_fast finished with time 0.007705318927764893 min\n",
      "Round 1 pearson delta: 0.20890680081423332\n",
      "----- Round  2 / 5  ----\n",
      "Number of cores: 64\n",
      "Number of workers: 32\n"
     ]
    },
    {
     "name": "stderr",
     "output_type": "stream",
     "text": [
      "100%|██████████| 8/8 [00:09<00:00,  1.23s/it]\n"
     ]
    },
    {
     "name": "stdout",
     "output_type": "stream",
     "text": [
      "Feature size is: 1000\n",
      "Using prior kernels...\n",
      "length of pool list: 1650\n",
      "length of train list: 200\n",
      "normalizing prior kernel using max\n",
      "computing the base kernel...\n",
      "Added 200 train samples to selection\n"
     ]
    },
    {
     "name": "stderr",
     "output_type": "stream",
     "text": [
      "Creating dataloaders....\n",
      "Finished creating dataloaders....\n",
      "Creating dataloaders....\n",
      "Finished creating dataloaders....\n",
      "Found local copy...\n"
     ]
    },
    {
     "name": "stdout",
     "output_type": "stream",
     "text": [
      "Next idx: 1516 - Value: 0.20128924943982796\n",
      "Next idx: 1568 - Value: 0.19833914219058912\n",
      "Next idx: 91 - Value: 0.1950623927668901\n",
      "Next idx: 102 - Value: 0.19334791094068726\n",
      "Next idx: 1246 - Value: 0.19210318003304577\n",
      "Next idx: 1192 - Value: 0.19194558552964305\n",
      "Next idx: 572 - Value: 0.19172233104902286\n",
      "Next idx: 157 - Value: 0.19013935830043088\n",
      "Next idx: 268 - Value: 0.1876307624430248\n",
      "Next idx: 1036 - Value: 0.18709030268362997\n",
      "Next idx: 478 - Value: 0.18657069904671364\n",
      "Next idx: 768 - Value: 0.18633447498436528\n",
      "Next idx: 558 - Value: 0.18617749072174364\n",
      "Next idx: 1386 - Value: 0.1860345214885465\n",
      "Next idx: 589 - Value: 0.18583400662865746\n",
      "Next idx: 162 - Value: 0.1855285234675489\n",
      "Next idx: 975 - Value: 0.1854290367332585\n",
      "Next idx: 12 - Value: 0.18516000878604477\n",
      "Next idx: 1482 - Value: 0.18497708485416636\n",
      "Next idx: 1017 - Value: 0.18497593046957864\n",
      "Next idx: 328 - Value: 0.18490547011579542\n",
      "Next idx: 50 - Value: 0.18485995915473397\n",
      "Next idx: 1179 - Value: 0.18414569850583462\n",
      "Next idx: 1097 - Value: 0.18413773129649535\n",
      "Next idx: 1148 - Value: 0.1840154485335679\n",
      "Next idx: 1477 - Value: 0.18398615936941834\n",
      "Next idx: 1603 - Value: 0.18372947071976248\n",
      "Next idx: 117 - Value: 0.18349504430106406\n",
      "Next idx: 882 - Value: 0.18321441813678718\n",
      "Next idx: 79 - Value: 0.1828798148798837\n",
      "Next idx: 152 - Value: 0.18272247828134422\n",
      "Next idx: 1194 - Value: 0.18268977778950907\n",
      "Next idx: 1379 - Value: 0.1826099425274414\n",
      "Next idx: 38 - Value: 0.1826019656006815\n",
      "Next idx: 1429 - Value: 0.18240798226884547\n",
      "Next idx: 1198 - Value: 0.1823797536912457\n",
      "Next idx: 1367 - Value: 0.18204654363583955\n",
      "Next idx: 164 - Value: 0.18171956192802577\n",
      "Next idx: 27 - Value: 0.18150124918637559\n",
      "Next idx: 867 - Value: 0.18125029637671025\n",
      "Next idx: 1581 - Value: 0.18123222543962456\n",
      "Next idx: 368 - Value: 0.18115994781532446\n",
      "Next idx: 1070 - Value: 0.180052967121419\n",
      "Next idx: 259 - Value: 0.17991612434009485\n",
      "Next idx: 1408 - Value: 0.17988693993311644\n",
      "Next idx: 462 - Value: 0.17972944149712733\n",
      "Next idx: 212 - Value: 0.1795907756879379\n",
      "Next idx: 1248 - Value: 0.1795224779613778\n",
      "Next idx: 1334 - Value: 0.17947690400170585\n",
      "Next idx: 597 - Value: 0.17947174948963632\n",
      "Next idx: 962 - Value: 0.17926911812291096\n",
      "Next idx: 1025 - Value: 0.17921856418313512\n",
      "Next idx: 386 - Value: 0.17921609480899042\n",
      "Next idx: 1214 - Value: 0.17892755570563917\n",
      "Next idx: 791 - Value: 0.17884615838853696\n",
      "Next idx: 1493 - Value: 0.1786736742473597\n",
      "Next idx: 1448 - Value: 0.17809495338594122\n",
      "Next idx: 914 - Value: 0.1780686773411968\n",
      "Next idx: 1349 - Value: 0.17802557167557267\n",
      "Next idx: 1003 - Value: 0.17802356452480123\n",
      "Next idx: 967 - Value: 0.17799937205472097\n",
      "Next idx: 488 - Value: 0.17740498254487336\n",
      "Next idx: 593 - Value: 0.17720829762191836\n",
      "Next idx: 812 - Value: 0.17686330766093816\n",
      "Next idx: 118 - Value: 0.17681543594875815\n",
      "Next idx: 957 - Value: 0.17680508659704441\n",
      "Next idx: 552 - Value: 0.1766944397864436\n",
      "Next idx: 144 - Value: 0.17662240191284106\n",
      "Next idx: 1442 - Value: 0.17647623230160003\n",
      "Next idx: 507 - Value: 0.1761479439604729\n",
      "Next idx: 132 - Value: 0.17577442206923863\n",
      "Next idx: 1518 - Value: 0.17555917186795045\n",
      "Next idx: 1151 - Value: 0.17545885969638292\n",
      "Next idx: 7 - Value: 0.17528260135399484\n",
      "Next idx: 1577 - Value: 0.17516616741159977\n",
      "Next idx: 434 - Value: 0.17470389160410355\n",
      "Next idx: 849 - Value: 0.174660571288699\n",
      "Next idx: 921 - Value: 0.1745343710662824\n",
      "Next idx: 984 - Value: 0.17450254810605026\n",
      "Next idx: 446 - Value: 0.17443803458201473\n",
      "Next idx: 250 - Value: 0.17429005953991566\n",
      "Next idx: 1100 - Value: 0.17423556660489883\n",
      "Next idx: 1286 - Value: 0.17423382210857608\n",
      "Next idx: 832 - Value: 0.17421195844618464\n",
      "Next idx: 1468 - Value: 0.17401881944149242\n",
      "Next idx: 965 - Value: 0.1740117808707332\n",
      "Next idx: 894 - Value: 0.1739889492352345\n",
      "Next idx: 786 - Value: 0.17380334863985153\n",
      "Next idx: 1436 - Value: 0.17372980269360777\n",
      "Next idx: 364 - Value: 0.1736232110914065\n",
      "Next idx: 1462 - Value: 0.1733236351639385\n",
      "Next idx: 1303 - Value: 0.17328596047074124\n",
      "Next idx: 92 - Value: 0.17323189823509072\n",
      "Next idx: 1211 - Value: 0.17309947487883742\n",
      "Next idx: 336 - Value: 0.17306819421559533\n",
      "Next idx: 339 - Value: 0.17292065224219202\n",
      "Next idx: 252 - Value: 0.17291473036850413\n",
      "Next idx: 693 - Value: 0.17287016430630667\n",
      "Next idx: 138 - Value: 0.1728601781211255\n",
      "Next idx: 1048 - Value: 0.17282775362077762\n",
      "Querying 100 new perturbations!\n",
      "Number of labeled perts at this round: 300\n",
      "Number of cores: 64\n",
      "Number of workers: 32\n",
      "Number of cores: 64\n",
      "Number of workers: 32\n",
      "Use autofocus loss only...\n"
     ]
    },
    {
     "name": "stderr",
     "output_type": "stream",
     "text": [
      "Start Training...\n",
      "Epoch 1 Step 1 Train Loss: 0.8063\n",
      "Epoch 1 Step 51 Train Loss: 0.8121\n",
      "Epoch 1 Step 101 Train Loss: 0.7563\n",
      "Epoch 1 Step 151 Train Loss: 0.8019\n"
     ]
    },
    {
     "name": "stdout",
     "output_type": "stream",
     "text": [
      "this epoch takes 52.90770125389099 s!\n"
     ]
    },
    {
     "name": "stderr",
     "output_type": "stream",
     "text": [
      "100%|██████████| 19/19 [00:11<00:00,  1.65it/s]\n",
      "Done!\n"
     ]
    },
    {
     "name": "stdout",
     "output_type": "stream",
     "text": [
      "per epoch evaluation takes 11.532599210739136 s!\n",
      "per epoch metric computing takes 0.05461430549621582 s!\n",
      "Start evaluating...\n",
      "Using modified evaluation scheme...\n"
     ]
    },
    {
     "name": "stderr",
     "output_type": "stream",
     "text": [
      "100%|██████████| 111/111 [00:20<00:00,  5.36it/s]\n"
     ]
    },
    {
     "name": "stdout",
     "output_type": "stream",
     "text": [
      "Finished evaluating with time 0.3474480112393697 min\n",
      "Starting initializing eval_analysis_fast analysis...\n"
     ]
    },
    {
     "name": "stderr",
     "output_type": "stream",
     "text": [
      "100%|██████████| 192/192 [00:00<00:00, 431.63it/s]\n",
      "Creating dataloaders....\n",
      "Finished creating dataloaders....\n"
     ]
    },
    {
     "name": "stdout",
     "output_type": "stream",
     "text": [
      "eval_analysis_fast finished with time 0.007488429546356201 min\n",
      "Round 2 pearson delta: 0.19985252455844607\n",
      "----- Round  3 / 5  ----\n",
      "Number of cores: 64\n",
      "Number of workers: 32\n"
     ]
    },
    {
     "name": "stderr",
     "output_type": "stream",
     "text": [
      "100%|██████████| 8/8 [00:10<00:00,  1.34s/it]\n"
     ]
    },
    {
     "name": "stdout",
     "output_type": "stream",
     "text": [
      "Feature size is: 1000\n",
      "Using prior kernels...\n",
      "length of pool list: 1550\n",
      "length of train list: 300\n",
      "normalizing prior kernel using max\n",
      "computing the base kernel...\n",
      "Added 300 train samples to selection\n"
     ]
    },
    {
     "name": "stderr",
     "output_type": "stream",
     "text": [
      "Creating dataloaders....\n",
      "Finished creating dataloaders....\n",
      "Creating dataloaders....\n",
      "Finished creating dataloaders....\n",
      "Found local copy...\n"
     ]
    },
    {
     "name": "stdout",
     "output_type": "stream",
     "text": [
      "Next idx: 250 - Value: 0.18596295398879947\n",
      "Next idx: 1 - Value: 0.1814783169000148\n",
      "Next idx: 600 - Value: 0.17780097546677928\n",
      "Next idx: 1252 - Value: 0.1769055224047571\n",
      "Next idx: 345 - Value: 0.17667799426575598\n",
      "Next idx: 660 - Value: 0.17649664645136653\n",
      "Next idx: 959 - Value: 0.17596565966482952\n",
      "Next idx: 1111 - Value: 0.1753355478929508\n",
      "Next idx: 905 - Value: 0.17484468934498537\n",
      "Next idx: 740 - Value: 0.17444692911258564\n",
      "Next idx: 29 - Value: 0.17412052707925676\n",
      "Next idx: 1543 - Value: 0.17397232509735092\n",
      "Next idx: 550 - Value: 0.1733942923090035\n",
      "Next idx: 58 - Value: 0.1733347029650636\n",
      "Next idx: 1026 - Value: 0.17323478038245932\n",
      "Next idx: 1053 - Value: 0.17297393533241054\n",
      "Next idx: 315 - Value: 0.17279396994537974\n",
      "Next idx: 591 - Value: 0.17276629693156104\n",
      "Next idx: 25 - Value: 0.17270222288031134\n",
      "Next idx: 369 - Value: 0.1726577447821496\n",
      "Next idx: 284 - Value: 0.1726270473381914\n",
      "Next idx: 610 - Value: 0.17252815849690353\n",
      "Next idx: 1136 - Value: 0.17251497077278205\n",
      "Next idx: 914 - Value: 0.17245112172879973\n",
      "Next idx: 247 - Value: 0.1723304893599693\n",
      "Next idx: 972 - Value: 0.17226227769188118\n",
      "Next idx: 908 - Value: 0.17199702809669368\n",
      "Next idx: 179 - Value: 0.17193536863417727\n",
      "Next idx: 1356 - Value: 0.1718254217506141\n",
      "Next idx: 545 - Value: 0.17161585712720007\n",
      "Next idx: 329 - Value: 0.17145154613470157\n",
      "Next idx: 393 - Value: 0.171368962965974\n",
      "Next idx: 1048 - Value: 0.1711069990494067\n",
      "Next idx: 1245 - Value: 0.17110303471554372\n",
      "Next idx: 1134 - Value: 0.17105901143032087\n",
      "Next idx: 594 - Value: 0.17101718665010723\n",
      "Next idx: 1461 - Value: 0.1710097315006615\n",
      "Next idx: 391 - Value: 0.17073338342623137\n",
      "Next idx: 41 - Value: 0.17071464908263456\n",
      "Next idx: 730 - Value: 0.17065204579282942\n",
      "Next idx: 968 - Value: 0.17055050137399114\n",
      "Next idx: 547 - Value: 0.17053816583777404\n",
      "Next idx: 293 - Value: 0.17046364453573587\n",
      "Next idx: 1186 - Value: 0.17040582684870406\n",
      "Next idx: 165 - Value: 0.17039255587077112\n",
      "Next idx: 891 - Value: 0.17026026924236382\n",
      "Next idx: 1084 - Value: 0.17023838995013876\n",
      "Next idx: 669 - Value: 0.17020392997636294\n",
      "Next idx: 144 - Value: 0.17002545263625374\n",
      "Next idx: 816 - Value: 0.1698929736907504\n",
      "Next idx: 102 - Value: 0.16972771371064788\n",
      "Next idx: 335 - Value: 0.1694065106914122\n",
      "Next idx: 967 - Value: 0.16940146851844062\n",
      "Next idx: 149 - Value: 0.1693961756931634\n",
      "Next idx: 1397 - Value: 0.16933369551339805\n",
      "Next idx: 53 - Value: 0.16925843176854957\n",
      "Next idx: 728 - Value: 0.16915548629736846\n",
      "Next idx: 209 - Value: 0.1687476909314409\n",
      "Next idx: 1522 - Value: 0.1685741372753231\n",
      "Next idx: 1229 - Value: 0.16839014899498428\n",
      "Next idx: 482 - Value: 0.16838285638948192\n",
      "Next idx: 374 - Value: 0.16838195241939918\n",
      "Next idx: 1546 - Value: 0.16836704172745476\n",
      "Next idx: 858 - Value: 0.16831014527283605\n",
      "Next idx: 1379 - Value: 0.16827133646414127\n",
      "Next idx: 734 - Value: 0.16824256929450293\n",
      "Next idx: 1215 - Value: 0.16821811298968778\n",
      "Next idx: 1515 - Value: 0.16819972650497284\n",
      "Next idx: 50 - Value: 0.16814880468235044\n",
      "Next idx: 1498 - Value: 0.1680278735928295\n",
      "Next idx: 1501 - Value: 0.16800493032886732\n",
      "Next idx: 480 - Value: 0.1679138413583025\n",
      "Next idx: 1378 - Value: 0.16789784187190762\n",
      "Next idx: 1516 - Value: 0.1676810684975684\n",
      "Next idx: 0 - Value: 0.16750324904838926\n",
      "Next idx: 505 - Value: 0.16741966770683253\n",
      "Next idx: 422 - Value: 0.16728963999700097\n",
      "Next idx: 675 - Value: 0.16726253511729267\n",
      "Next idx: 1057 - Value: 0.16713385288362442\n",
      "Next idx: 817 - Value: 0.16688539272236533\n",
      "Next idx: 897 - Value: 0.16674055532455181\n",
      "Next idx: 1412 - Value: 0.16661362143274233\n",
      "Next idx: 1129 - Value: 0.16654984928313926\n",
      "Next idx: 1076 - Value: 0.1665251668284515\n",
      "Next idx: 1482 - Value: 0.16649351680533178\n",
      "Next idx: 83 - Value: 0.16647645445842035\n",
      "Next idx: 1487 - Value: 0.16647389644174665\n",
      "Next idx: 1101 - Value: 0.16643923476799616\n",
      "Next idx: 508 - Value: 0.16640318211157587\n",
      "Next idx: 1213 - Value: 0.1663995237938011\n",
      "Next idx: 285 - Value: 0.1663806838933778\n",
      "Next idx: 356 - Value: 0.16621438375095307\n",
      "Next idx: 280 - Value: 0.1662020308871507\n",
      "Next idx: 1258 - Value: 0.1661299283268733\n",
      "Next idx: 1146 - Value: 0.16609981289116993\n",
      "Next idx: 124 - Value: 0.16603984713675238\n",
      "Next idx: 364 - Value: 0.1659959040755781\n",
      "Next idx: 339 - Value: 0.16591218949880296\n",
      "Next idx: 1254 - Value: 0.16579770390611825\n",
      "Next idx: 849 - Value: 0.16574524822405753\n",
      "Querying 100 new perturbations!\n",
      "Number of labeled perts at this round: 400\n",
      "Number of cores: 64\n",
      "Number of workers: 32\n",
      "Number of cores: 64\n",
      "Number of workers: 32\n",
      "Use autofocus loss only...\n"
     ]
    },
    {
     "name": "stderr",
     "output_type": "stream",
     "text": [
      "Start Training...\n",
      "Epoch 1 Step 1 Train Loss: 0.8117\n",
      "Epoch 1 Step 51 Train Loss: 0.7726\n",
      "Epoch 1 Step 101 Train Loss: 0.7281\n",
      "Epoch 1 Step 151 Train Loss: 0.7356\n",
      "Epoch 1 Step 201 Train Loss: 0.7760\n"
     ]
    },
    {
     "name": "stdout",
     "output_type": "stream",
     "text": [
      "this epoch takes 69.56739354133606 s!\n"
     ]
    },
    {
     "name": "stderr",
     "output_type": "stream",
     "text": [
      "100%|██████████| 28/28 [00:13<00:00,  2.02it/s]\n",
      "Done!\n"
     ]
    },
    {
     "name": "stdout",
     "output_type": "stream",
     "text": [
      "per epoch evaluation takes 13.917011499404907 s!\n",
      "per epoch metric computing takes 0.07604122161865234 s!\n",
      "Start evaluating...\n",
      "Using modified evaluation scheme...\n"
     ]
    },
    {
     "name": "stderr",
     "output_type": "stream",
     "text": [
      "100%|██████████| 111/111 [00:21<00:00,  5.06it/s]\n"
     ]
    },
    {
     "name": "stdout",
     "output_type": "stream",
     "text": [
      "Finished evaluating with time 0.3681381265322367 min\n",
      "Starting initializing eval_analysis_fast analysis...\n"
     ]
    },
    {
     "name": "stderr",
     "output_type": "stream",
     "text": [
      "100%|██████████| 192/192 [00:00<00:00, 403.88it/s]\n",
      "Creating dataloaders....\n",
      "Finished creating dataloaders....\n"
     ]
    },
    {
     "name": "stdout",
     "output_type": "stream",
     "text": [
      "eval_analysis_fast finished with time 0.007992045084635416 min\n",
      "Round 3 pearson delta: 0.24374984366095184\n",
      "----- Round  4 / 5  ----\n",
      "Number of cores: 64\n",
      "Number of workers: 32\n"
     ]
    },
    {
     "name": "stderr",
     "output_type": "stream",
     "text": [
      "100%|██████████| 8/8 [00:11<00:00,  1.46s/it]\n"
     ]
    },
    {
     "name": "stdout",
     "output_type": "stream",
     "text": [
      "Feature size is: 1000\n",
      "Using prior kernels...\n",
      "length of pool list: 1450\n",
      "length of train list: 400\n",
      "normalizing prior kernel using max\n",
      "computing the base kernel...\n",
      "Added 400 train samples to selection\n"
     ]
    },
    {
     "name": "stderr",
     "output_type": "stream",
     "text": [
      "Creating dataloaders....\n",
      "Finished creating dataloaders....\n",
      "Creating dataloaders....\n",
      "Finished creating dataloaders....\n"
     ]
    },
    {
     "name": "stdout",
     "output_type": "stream",
     "text": [
      "Next idx: 344 - Value: 0.18309077678019509\n",
      "Next idx: 1203 - Value: 0.17890873758510029\n",
      "Next idx: 1233 - Value: 0.17409957933178216\n",
      "Next idx: 272 - Value: 0.1732166161031648\n",
      "Next idx: 825 - Value: 0.1725862354636976\n",
      "Next idx: 363 - Value: 0.17200677129450487\n",
      "Next idx: 296 - Value: 0.16945875385776094\n",
      "Next idx: 867 - Value: 0.16867073987877623\n",
      "Next idx: 449 - Value: 0.16849434990102208\n",
      "Next idx: 995 - Value: 0.16814602061140738\n",
      "Next idx: 1043 - Value: 0.16784359487998465\n",
      "Next idx: 1392 - Value: 0.1677783838155803\n",
      "Next idx: 130 - Value: 0.16776038479869104\n",
      "Next idx: 387 - Value: 0.1676093839320311\n",
      "Next idx: 288 - Value: 0.16744109963135678\n",
      "Next idx: 112 - Value: 0.16697962908531339\n",
      "Next idx: 532 - Value: 0.16673021631467105\n",
      "Next idx: 573 - Value: 0.16665715307908577\n",
      "Next idx: 308 - Value: 0.16657487255918957\n",
      "Next idx: 439 - Value: 0.16644871797111674\n",
      "Next idx: 1050 - Value: 0.16628447236941263\n",
      "Next idx: 111 - Value: 0.16611078012301428\n",
      "Next idx: 152 - Value: 0.16587672043197965\n",
      "Next idx: 688 - Value: 0.1658557497724872\n",
      "Next idx: 490 - Value: 0.16580185374997883\n",
      "Next idx: 1137 - Value: 0.16545986153087955\n",
      "Next idx: 884 - Value: 0.1654440279896755\n",
      "Next idx: 697 - Value: 0.16535169976407132\n",
      "Next idx: 1293 - Value: 0.16525991032819792\n",
      "Next idx: 1095 - Value: 0.16521769860934662\n",
      "Next idx: 368 - Value: 0.16516727664499165\n",
      "Next idx: 1086 - Value: 0.16499865042110534\n",
      "Next idx: 627 - Value: 0.16457239713594385\n",
      "Next idx: 1116 - Value: 0.1644756015980195\n",
      "Next idx: 1172 - Value: 0.16431777274817252\n",
      "Next idx: 505 - Value: 0.16415103823633698\n",
      "Next idx: 488 - Value: 0.1640815758162878\n",
      "Next idx: 35 - Value: 0.1638204971422797\n",
      "Next idx: 709 - Value: 0.16378200880174612\n",
      "Next idx: 739 - Value: 0.16376148947042893\n",
      "Next idx: 89 - Value: 0.1636523881512427\n",
      "Next idx: 537 - Value: 0.16352955957961\n",
      "Next idx: 97 - Value: 0.16350534887491358\n",
      "Next idx: 264 - Value: 0.16335719694632259\n",
      "Next idx: 575 - Value: 0.16332401186829149\n",
      "Next idx: 767 - Value: 0.1633058868695608\n",
      "Next idx: 1186 - Value: 0.16329764316765163\n",
      "Next idx: 243 - Value: 0.1631682522155815\n",
      "Next idx: 1345 - Value: 0.1630757008348077\n",
      "Next idx: 1030 - Value: 0.16307225349965898\n",
      "Next idx: 1176 - Value: 0.1630278900048499\n",
      "Next idx: 1447 - Value: 0.16294776767145605\n",
      "Next idx: 1013 - Value: 0.16290239970793363\n",
      "Next idx: 1326 - Value: 0.16286239314920986\n",
      "Next idx: 436 - Value: 0.162710344833698\n",
      "Next idx: 752 - Value: 0.16260348808724706\n",
      "Next idx: 681 - Value: 0.1625884276444458\n",
      "Next idx: 808 - Value: 0.16258593663230447\n",
      "Next idx: 813 - Value: 0.16256118310321438\n",
      "Next idx: 985 - Value: 0.16230777894491744\n",
      "Next idx: 415 - Value: 0.16230465865131527\n",
      "Next idx: 451 - Value: 0.16228417729858566\n",
      "Next idx: 920 - Value: 0.16204620027615665\n",
      "Next idx: 907 - Value: 0.1620442895788504\n",
      "Next idx: 678 - Value: 0.1619751086956976\n",
      "Next idx: 1222 - Value: 0.16190947221962726\n",
      "Next idx: 625 - Value: 0.16170550632191805\n",
      "Next idx: 564 - Value: 0.16162058280764288\n",
      "Next idx: 1386 - Value: 0.16147480795779906\n",
      "Next idx: 1315 - Value: 0.1614456340478861\n",
      "Next idx: 1141 - Value: 0.16141752271522983\n",
      "Next idx: 375 - Value: 0.1613338369876778\n",
      "Next idx: 929 - Value: 0.16115274937762786\n",
      "Next idx: 950 - Value: 0.16113251235080128\n",
      "Next idx: 980 - Value: 0.16112332191253304\n",
      "Next idx: 1324 - Value: 0.16087916713047856\n",
      "Next idx: 1103 - Value: 0.16085685970497562\n",
      "Next idx: 1329 - Value: 0.1607069336241299\n",
      "Next idx: 559 - Value: 0.16060475303050026\n",
      "Next idx: 1123 - Value: 0.16055083335474374\n",
      "Next idx: 303 - Value: 0.160535821420386\n",
      "Next idx: 1109 - Value: 0.16041167709942084\n",
      "Next idx: 711 - Value: 0.16037193242268113\n",
      "Next idx: 153 - Value: 0.16034126841155744\n",
      "Next idx: 365 - Value: 0.1603401557716058\n",
      "Next idx: 815 - Value: 0.16030822146025836\n",
      "Next idx: 424 - Value: 0.16020236647936253\n",
      "Next idx: 885 - Value: 0.1602023374727228\n",
      "Next idx: 1400 - Value: 0.16013253823491097\n",
      "Next idx: 40 - Value: 0.16009411754919878\n",
      "Next idx: 1404 - Value: 0.1599740626304212\n",
      "Next idx: 1445 - Value: 0.15995851642418735\n",
      "Next idx: 1070 - Value: 0.1598992793402647\n",
      "Next idx: 1263 - Value: 0.1598548139221621\n",
      "Next idx: 1285 - Value: 0.15985295805785887\n",
      "Next idx: 908 - Value: 0.15982574453288967\n",
      "Next idx: 1180 - Value: 0.15963953539007292\n",
      "Next idx: 934 - Value: 0.15954258249339903\n",
      "Next idx: 1365 - Value: 0.1594445782013263\n",
      "Next idx: 1208 - Value: 0.15940067654247375\n",
      "Querying 100 new perturbations!\n",
      "Number of labeled perts at this round: 500\n",
      "Number of cores: 64\n",
      "Number of workers: 32\n",
      "Number of cores: 64\n",
      "Number of workers: 32\n",
      "Use autofocus loss only...\n"
     ]
    },
    {
     "name": "stderr",
     "output_type": "stream",
     "text": [
      "Found local copy...\n",
      "Start Training...\n",
      "Epoch 1 Step 1 Train Loss: 0.7890\n",
      "Epoch 1 Step 51 Train Loss: 0.7815\n",
      "Epoch 1 Step 101 Train Loss: 0.7332\n",
      "Epoch 1 Step 151 Train Loss: 0.7189\n",
      "Epoch 1 Step 201 Train Loss: 0.7414\n",
      "Epoch 1 Step 251 Train Loss: 0.7499\n"
     ]
    },
    {
     "name": "stdout",
     "output_type": "stream",
     "text": [
      "this epoch takes 85.690256357193 s!\n"
     ]
    },
    {
     "name": "stderr",
     "output_type": "stream",
     "text": [
      "  0%|          | 0/29 [00:00<?, ?it/s]"
     ]
    }
   ],
   "source": [
    "interface.start(n_init_labeled = 100, n_round = 5, n_query = 100)"
   ]
  }
 ],
 "metadata": {
  "kernelspec": {
   "display_name": "python38",
   "language": "python",
   "name": "python3"
  },
  "language_info": {
   "codemirror_mode": {
    "name": "ipython",
    "version": 3
   },
   "file_extension": ".py",
   "mimetype": "text/x-python",
   "name": "python",
   "nbconvert_exporter": "python",
   "pygments_lexer": "ipython3",
   "version": "3.8.16"
  },
  "orig_nbformat": 4
 },
 "nbformat": 4,
 "nbformat_minor": 2
}
