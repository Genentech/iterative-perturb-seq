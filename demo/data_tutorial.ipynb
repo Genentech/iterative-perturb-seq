{
 "cells": [
  {
   "cell_type": "code",
   "execution_count": 1,
   "metadata": {},
   "outputs": [
    {
     "name": "stdout",
     "output_type": "stream",
     "text": [
      "device:  cuda:0\n"
     ]
    }
   ],
   "source": [
    "import sys\n",
    "sys.path.append('../')\n",
    "from iterpert.iterpert import IterPert\n",
    "\n",
    "strategy = 'IterPert'\n",
    "interface = IterPert(weight_bias_track = False, \n",
    "                     exp_name = strategy,\n",
    "                     device = 'cuda:0', \n",
    "                     seed = 1)"
   ]
  },
  {
   "cell_type": "code",
   "execution_count": 2,
   "metadata": {},
   "outputs": [
    {
     "name": "stderr",
     "output_type": "stream",
     "text": [
      "Found local copy...\n",
      "Found local copy...\n",
      "Found local copy...\n",
      "Creating pyg object for each cell in the data...\n",
      " 10%|▉         | 199/2058 [05:08<1:20:10,  2.59s/it]"
     ]
    },
    {
     "name": "stdout",
     "output_type": "stream",
     "text": [
      "C7orf26+ctrl\n"
     ]
    },
    {
     "name": "stderr",
     "output_type": "stream",
     "text": [
      " 12%|█▏        | 253/2058 [06:05<25:09,  1.20it/s]  "
     ]
    },
    {
     "name": "stdout",
     "output_type": "stream",
     "text": [
      "C19orf53+ctrl\n"
     ]
    },
    {
     "name": "stderr",
     "output_type": "stream",
     "text": [
      " 15%|█▌        | 317/2058 [07:19<20:04,  1.45it/s]"
     ]
    }
   ],
   "source": [
    "## first time use, download from servers:\n",
    "path = '/home/huangk28/scratch/perturb_seq_data/test_data/'\n",
    "interface.initialize_data(path = path,\n",
    "                          dataset_name='replogle_k562_essential_1000hvg',\n",
    "                          batch_size = 256)"
   ]
  },
  {
   "cell_type": "code",
   "execution_count": null,
   "metadata": {},
   "outputs": [],
   "source": []
  },
  {
   "cell_type": "markdown",
   "metadata": {},
   "source": [
    "# Use your own data:\n",
    "\n",
    "Prepare a scanpy adata object with\n",
    "\n",
    "1. adata.obs dataframe has condition and cell_type columns, where condition is the perturbation name for each cell. Control cells have condition format of ctrl, single perturbation has condition format of A+ctrl or ctrl+A, combination perturbation has condition format of A+B.\n",
    "2. adata.var dataframe has gene_name column, where each gene name is the gene symbol.\n",
    "3. adata.X stores the post-perturbed gene expression."
   ]
  },
  {
   "cell_type": "code",
   "execution_count": 3,
   "metadata": {},
   "outputs": [],
   "source": [
    "import scanpy as sc\n",
    "adata = sc.read_h5ad('/home/huangk28/scratch/perturb_seq_data/gears_data/adamson/perturb_processed.h5ad')"
   ]
  },
  {
   "cell_type": "code",
   "execution_count": 4,
   "metadata": {},
   "outputs": [
    {
     "name": "stdout",
     "output_type": "stream",
     "text": [
      "device:  cuda:0\n"
     ]
    }
   ],
   "source": [
    "## if you have your own data:\n",
    "\n",
    "interface = IterPert(weight_bias_track = False, \n",
    "                     exp_name = strategy,\n",
    "                     device = 'cuda:0', \n",
    "                     seed = 1)"
   ]
  },
  {
   "cell_type": "code",
   "execution_count": 5,
   "metadata": {},
   "outputs": [
    {
     "name": "stderr",
     "output_type": "stream",
     "text": [
      "Found local copy...\n",
      "Downloading...\n",
      "100%|██████████| 559k/559k [00:01<00:00, 520kiB/s] \n",
      "Creating pyg object for each cell in the data...\n",
      "  9%|▉         | 8/87 [00:08<01:16,  1.03it/s]"
     ]
    },
    {
     "name": "stdout",
     "output_type": "stream",
     "text": [
      "SRPR+ctrl\n"
     ]
    },
    {
     "name": "stderr",
     "output_type": "stream",
     "text": [
      " 14%|█▍        | 12/87 [00:12<01:13,  1.01it/s]"
     ]
    },
    {
     "name": "stdout",
     "output_type": "stream",
     "text": [
      "SLMO2+ctrl\n"
     ]
    },
    {
     "name": "stderr",
     "output_type": "stream",
     "text": [
      " 16%|█▌        | 14/87 [00:13<01:04,  1.12it/s]"
     ]
    },
    {
     "name": "stdout",
     "output_type": "stream",
     "text": [
      "TIMM23+ctrl\n"
     ]
    },
    {
     "name": "stderr",
     "output_type": "stream",
     "text": [
      " 17%|█▋        | 15/87 [00:14<01:03,  1.14it/s]"
     ]
    },
    {
     "name": "stdout",
     "output_type": "stream",
     "text": [
      "AMIGO3+ctrl\n"
     ]
    },
    {
     "name": "stderr",
     "output_type": "stream",
     "text": [
      " 67%|██████▋   | 58/87 [00:45<00:21,  1.36it/s]"
     ]
    },
    {
     "name": "stdout",
     "output_type": "stream",
     "text": [
      "KCTD16+ctrl\n"
     ]
    },
    {
     "name": "stderr",
     "output_type": "stream",
     "text": [
      "100%|██████████| 87/87 [01:03<00:00,  1.36it/s]\n",
      "Saving new dataset pyg object at /home/huangk28/scratch/perturb_seq_data/test_data/replogle_k562_essential_1000hvg/data_pyg/cell_graphs.pkl\n",
      "Done!\n",
      "Found local copy...\n",
      "These perturbations are not in the GO graph and their perturbation can thus not be predicted\n",
      "['SRPR+ctrl' 'SLMO2+ctrl' 'TIMM23+ctrl' 'AMIGO3+ctrl' 'KCTD16+ctrl']\n",
      "Local copy of pyg dataset is detected. Loading...\n",
      "Done!\n",
      "Creating new splits....\n"
     ]
    },
    {
     "name": "stdout",
     "output_type": "stream",
     "text": [
      "81\n",
      "['CREB1+ctrl', 'ZNF326+ctrl', 'BHLHE40+ctrl', 'DDIT3+ctrl', 'OST4+ctrl', 'SEC61A1+ctrl', 'EIF2B4+ctrl', 'IER3IP1+ctrl', 'HARS+ctrl', 'DARS+ctrl', 'IDH3A+ctrl', 'IARS2+ctrl', 'SOCS1+ctrl', 'UFL1+ctrl', 'DDRGK1+ctrl', 'QARS+ctrl', 'STT3A+ctrl', 'SAMM50+ctrl', 'MRGBP+ctrl', 'SEL1L+ctrl', 'PDIA6+ctrl', 'ATP5B+ctrl', 'SYVN1+ctrl', 'MTHFD1+ctrl', 'GMPPB+ctrl', 'TMEM167A+ctrl', 'GNPNAT1+ctrl', 'SLC39A7+ctrl', 'DERL2+ctrl', 'NEDD8+ctrl', 'TELO2+ctrl', 'HSPA9+ctrl', 'MRPL39+ctrl', 'GBF1+ctrl', 'FARSB+ctrl', 'SEC63+ctrl', 'MARS+ctrl', 'HSD17B12+ctrl', 'SEC61B+ctrl', 'TARS+ctrl', 'ASCC3+ctrl', 'EIF2B2+ctrl', 'SARS+ctrl', 'ARHGAP22+ctrl', 'TTI1+ctrl', 'HSPA5+ctrl', 'PSMD4+ctrl', 'SCYL1+ctrl', 'SRP68+ctrl', 'EIF2S1+ctrl', 'TIMM44+ctrl', 'PTDSS1+ctrl', 'HYOU1+ctrl', 'DDOST+ctrl', 'SLC35B1+ctrl', 'TMED10+ctrl', 'CCND3+ctrl', 'UFM1+ctrl', 'CHERP+ctrl', 'AARS+ctrl', 'SRPRB+ctrl', 'FECH+ctrl', 'PPWD1+ctrl', 'DHDDS+ctrl', 'COPZ1+ctrl', 'EIF2B3+ctrl', 'SEC61G+ctrl', 'DNAJC19+ctrl', 'XRN1+ctrl', 'CARS+ctrl', 'P4HB+ctrl', 'SPCS3+ctrl', 'SPCS2+ctrl']\n",
      "['YIPF5+ctrl', 'DAD1+ctrl', 'CAD+ctrl', 'TTI2+ctrl', 'MANF+ctrl', 'SRP72+ctrl', 'COPB1+ctrl', 'TMED2+ctrl']\n"
     ]
    },
    {
     "name": "stderr",
     "output_type": "stream",
     "text": [
      "Saving new splits at /home/huangk28/scratch/perturb_seq_data/test_data/replogle_k562_essential_1000hvg/splits/replogle_k562_essential_1000hvg_active_1_0.75.pkl\n",
      "Done!\n",
      "Creating dataloaders....\n",
      "Finished creating dataloaders....\n"
     ]
    },
    {
     "name": "stdout",
     "output_type": "stream",
     "text": [
      "Number of cores: 64\n",
      "Number of workers: 32\n"
     ]
    }
   ],
   "source": [
    "## first time use, download from servers:\n",
    "path = '/home/huangk28/scratch/perturb_seq_data/test_data/'\n",
    "interface.initialize_data(path = path,\n",
    "                          dataset_name='adamson',\n",
    "                          adata = adata,\n",
    "                          batch_size = 256)"
   ]
  },
  {
   "cell_type": "code",
   "execution_count": null,
   "metadata": {},
   "outputs": [],
   "source": []
  },
  {
   "cell_type": "markdown",
   "metadata": {},
   "source": [
    "For genome-wide dataset, it is too large to put in the dataverse server, thus we suggest to download from scPerturb and follow the below preprocessing code:"
   ]
  },
  {
   "cell_type": "code",
   "execution_count": null,
   "metadata": {},
   "outputs": [],
   "source": [
    "import scanpy as sc\n",
    "## Download https://zenodo.org/record/7041849/files/ReplogleWeissman2022_K562_gwps.h5ad\n",
    "adata = sc.read_h5ad(PATH)\n",
    "adata.obs = adata.obs.rename(columns = {'perturbation': 'condition', 'cell_line': 'cell_type'})\n",
    "\n",
    "sc.pp.normalize_total(adata)\n",
    "sc.pp.log1p(adata)\n",
    "sc.pp.highly_variable_genes(adata,n_top_genes=1000, subset = True)\n",
    "\n",
    "adata.obs['condition'] = adata.obs['condition'].apply(lambda x: x + '+ctrl' if x!='control' else 'ctrl')\n",
    "\n",
    "adata.var = adata.var.reset_index()\n",
    "adata.uns['log1p']['base'] = None\n",
    "\n",
    "adata.var.index = adata.var.index.values.astype('str')\n",
    "\n",
    "## then use this adata to feed into the interface as in the step above"
   ]
  }
 ],
 "metadata": {
  "kernelspec": {
   "display_name": "python38",
   "language": "python",
   "name": "python3"
  },
  "language_info": {
   "codemirror_mode": {
    "name": "ipython",
    "version": 3
   },
   "file_extension": ".py",
   "mimetype": "text/x-python",
   "name": "python",
   "nbconvert_exporter": "python",
   "pygments_lexer": "ipython3",
   "version": "3.8.16"
  },
  "orig_nbformat": 4
 },
 "nbformat": 4,
 "nbformat_minor": 2
}
